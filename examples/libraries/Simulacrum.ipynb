{
 "cells": [
  {
   "cell_type": "markdown",
   "metadata": {},
   "source": [
    "# Simulacrum demo\n",
    "\n",
    "*First class syntax support for type classes in Scala *\n",
    "\n",
    "https://github.com/mpilquist/simulacrum"
   ]
  },
  {
   "cell_type": "markdown",
   "metadata": {},
   "source": [
    "Let's not only load a standard dependency, but also add a **compiler plugin**. Ignore the annoying output from the Ivy resolution."
   ]
  },
  {
   "cell_type": "code",
   "execution_count": 1,
   "metadata": {
    "collapsed": true
   },
   "outputs": [
    {
     "name": "stdout",
     "output_type": "stream",
     "text": [
      ":: problems summary ::\n",
      ":::: WARNINGS\n",
      "\tUnable to reparse com.github.alexarchambault.jupyter#jupyter-scala-api_2.11.6;0.2.0-SNAPSHOT from sonatype-snapshots, using Wed May 20 00:01:36 CEST 2015\n",
      "\n",
      "\tSorting results from com.github.alexarchambault.jupyter#jupyter-scala-api_2.11.6;0.2.0-SNAPSHOT, using Wed May 20 00:01:36 CEST 2015 and Wed May 20 00:01:36 CEST 2015\n",
      "\n",
      "\tSorting results from com.github.alexarchambault.jupyter#jupyter-scala-api_2.11.6;0.2.0-SNAPSHOT, using Wed May 20 00:01:36 CEST 2015 and Wed May 20 00:01:36 CEST 2015\n",
      "\n",
      "\tChoosing sonatype-snapshots for com.github.alexarchambault.jupyter#jupyter-scala-api_2.11.6;0.2.0-SNAPSHOT\n",
      "\n",
      "\tUnable to reparse com.github.alexarchambault#ammonite-api_2.11.6;0.3.1-SNAPSHOT from sonatype-snapshots, using Wed May 20 00:00:10 CEST 2015\n",
      "\n",
      "\tSorting results from com.github.alexarchambault#ammonite-api_2.11.6;0.3.1-SNAPSHOT, using Wed May 20 00:00:10 CEST 2015 and Wed May 20 00:00:10 CEST 2015\n",
      "\n",
      "\tSorting results from com.github.alexarchambault#ammonite-api_2.11.6;0.3.1-SNAPSHOT, using Wed May 20 00:00:10 CEST 2015 and Wed May 20 00:00:10 CEST 2015\n",
      "\n",
      "\tChoosing sonatype-snapshots for com.github.alexarchambault#ammonite-api_2.11.6;0.3.1-SNAPSHOT\n",
      "\n",
      "\tUnable to reparse com.github.alexarchambault.jupyter#jupyter-api_2.11;0.2.0-SNAPSHOT from sonatype-snapshots, using Fri May 15 16:53:31 CEST 2015\n",
      "\n",
      "\tChoosing sonatype-snapshots for com.github.alexarchambault.jupyter#jupyter-api_2.11;0.2.0-SNAPSHOT\n",
      "\n",
      ":: problems summary ::\n",
      ":::: WARNINGS\n",
      "\tUnable to reparse com.github.alexarchambault.jupyter#jupyter-scala-api_2.11.6;0.2.0-SNAPSHOT from sonatype-snapshots, using Wed May 20 00:01:36 CEST 2015\n",
      "\n",
      "\tSorting results from com.github.alexarchambault.jupyter#jupyter-scala-api_2.11.6;0.2.0-SNAPSHOT, using Wed May 20 00:01:36 CEST 2015 and Wed May 20 00:01:36 CEST 2015\n",
      "\n",
      "\tSorting results from com.github.alexarchambault.jupyter#jupyter-scala-api_2.11.6;0.2.0-SNAPSHOT, using Wed May 20 00:01:36 CEST 2015 and Wed May 20 00:01:36 CEST 2015\n",
      "\n",
      "\tChoosing sonatype-snapshots for com.github.alexarchambault.jupyter#jupyter-scala-api_2.11.6;0.2.0-SNAPSHOT\n",
      "\n",
      "\tUnable to reparse com.github.alexarchambault#ammonite-api_2.11.6;0.3.1-SNAPSHOT from sonatype-snapshots, using Wed May 20 00:00:10 CEST 2015\n",
      "\n",
      "\tSorting results from com.github.alexarchambault#ammonite-api_2.11.6;0.3.1-SNAPSHOT, using Wed May 20 00:00:10 CEST 2015 and Wed May 20 00:00:10 CEST 2015\n",
      "\n",
      "\tSorting results from com.github.alexarchambault#ammonite-api_2.11.6;0.3.1-SNAPSHOT, using Wed May 20 00:00:10 CEST 2015 and Wed May 20 00:00:10 CEST 2015\n",
      "\n",
      "\tChoosing sonatype-snapshots for com.github.alexarchambault#ammonite-api_2.11.6;0.3.1-SNAPSHOT\n",
      "\n",
      "\tUnable to reparse com.github.alexarchambault.jupyter#jupyter-api_2.11;0.2.0-SNAPSHOT from sonatype-snapshots, using Fri May 15 16:53:31 CEST 2015\n",
      "\n",
      "\tChoosing sonatype-snapshots for com.github.alexarchambault.jupyter#jupyter-api_2.11;0.2.0-SNAPSHOT\n",
      "\n"
     ]
    },
    {
     "data": {
      "text/plain": []
     },
     "metadata": {},
     "output_type": "display_data"
    }
   ],
   "source": [
    "load.compiler.ivy(\"org.scalamacros\" % \"paradise_2.11.6\" % \"2.1.0-M5\")\n",
    "load.ivy(\"com.github.mpilquist\" %% \"simulacrum\" % \"0.3.0\")"
   ]
  },
  {
   "cell_type": "markdown",
   "metadata": {},
   "source": [
    "## Examples from simulacrum README\n",
    "We'll review *simulacrum* examples, and programatically inspect their generated code along the way."
   ]
  },
  {
   "cell_type": "markdown",
   "metadata": {},
   "source": [
    "First, let's import the content of the `simulacrum` package, and define a type class."
   ]
  },
  {
   "cell_type": "code",
   "execution_count": 2,
   "metadata": {
    "collapsed": false
   },
   "outputs": [
    {
     "data": {
      "text/plain": [
       "\u001b[32mimport \u001b[36msimulacrum._\u001b[0m\n",
       "defined \u001b[32mtrait \u001b[36mSemigroup\u001b[0m"
      ]
     },
     "metadata": {},
     "output_type": "display_data"
    }
   ],
   "source": [
    "import simulacrum._\n",
    "\n",
    "@typeclass trait Semigroup[A] {\n",
    "  @op(\"|+|\") def append(x: A, y: A): A\n",
    "}"
   ]
  },
  {
   "cell_type": "markdown",
   "metadata": {},
   "source": [
    "Everything seems fine... but what did the `@typeclass` annotation macro do?\n",
    "Let's look at that, using the following tools from scala-reflect:"
   ]
  },
  {
   "cell_type": "code",
   "execution_count": 3,
   "metadata": {
    "collapsed": false
   },
   "outputs": [
    {
     "data": {
      "text/plain": [
       "\u001b[32mimport \u001b[36mscala.reflect.runtime.universe.{ reify, showCode }\u001b[0m"
      ]
     },
     "metadata": {},
     "output_type": "display_data"
    }
   ],
   "source": [
    "import scala.reflect.runtime.universe.{ reify, showCode }"
   ]
  },
  {
   "cell_type": "code",
   "execution_count": 4,
   "metadata": {
    "collapsed": false
   },
   "outputs": [
    {
     "data": {
      "text/plain": [
       "\u001b[36mres3\u001b[0m: \u001b[32mammonite.pprint.Show[String]\u001b[0m = \u001b[32m\"\"\"\n",
       "{\n",
       "  trait Semigroup[A] extends AnyRef {\n",
       "    def append(x: A, y: A): A\n",
       "  };\n",
       "  object Semigroup extends AnyRef {\n",
       "    def apply[A](implicit instance: Semigroup[A]): Semigroup[A] = instance;\n",
       "    trait Ops[A] extends AnyRef {\n",
       "      def typeClassInstance: Semigroup[A];\n",
       "      def self: A;\n",
       "      def |+|(y: A): A = Ops.this.typeClassInstance.append(Ops.this.self, y)\n",
       "    };\n",
       "    trait ToSemigroupOps extends AnyRef {\n",
       "      implicit def toSemigroupOps[A](target: A)(implicit tc: Semigroup[A]): Semigroup.this.Ops[A] = {\n",
       "        final class $anon extends Semigroup.this.Ops[A] {\n",
       "          val self = target;\n",
       "          val typeClassInstance = tc\n",
       "        };\n",
       "        new $anon()\n",
       "      }\n",
       "    };\n",
       "    trait AllOps[A] extends Semigroup.this.Ops[A] {\n",
       "      def typeClassInstance: Semigroup[A]\n",
       "    };\n",
       "    object ops extends AnyRef {\n",
       "      implicit def toAllSemigroupOps[A](target: A)(implicit tc: Semigroup[A]): Semigroup.this.AllOps[A] = {\n",
       "        final class $anon extends Semigroup.this.AllOps[A] {\n",
       "          val self = target;\n",
       "          val typeClassInstance = tc\n",
       "        };\n",
       "        new $anon()\n",
       "      }\n",
       "    }\n",
       "  };\n",
       "  ()\n",
       "}\n",
       "\"\"\"\u001b[0m"
      ]
     },
     "metadata": {},
     "output_type": "display_data"
    }
   ],
   "source": [
    "show(showCode(reify {\n",
    "  @typeclass trait Semigroup[A] {\n",
    "    @op(\"|+|\") def append(x: A, y: A): A\n",
    "  }\n",
    "}.tree))"
   ]
  },
  {
   "cell_type": "markdown",
   "metadata": {},
   "source": [
    "A bit rough, but still read-able.\n",
    "\n",
    "Now let's use that: we'll define a `Semigroup` instance for `Int`, and use it straightaway."
   ]
  },
  {
   "cell_type": "code",
   "execution_count": 5,
   "metadata": {
    "collapsed": false
   },
   "outputs": [
    {
     "data": {
      "text/plain": [
       "\u001b[36msemigroupInt\u001b[0m: \u001b[32mcmd4.INSTANCE.$ref$cmd1.Semigroup[Int]\u001b[0m = cmd4$$user$$anon$1@596468fe\n",
       "\u001b[32mimport \u001b[36mSemigroup.ops._\u001b[0m\n",
       "\u001b[36mres4_2\u001b[0m: \u001b[32mInt\u001b[0m = \u001b[32m3\u001b[0m"
      ]
     },
     "metadata": {},
     "output_type": "display_data"
    }
   ],
   "source": [
    "implicit val semigroupInt: Semigroup[Int] = new Semigroup[Int] {\n",
    "  def append(x: Int, y: Int) = x + y\n",
    "}\n",
    "\n",
    "import Semigroup.ops._\n",
    "1 |+| 2 // 3"
   ]
  },
  {
   "cell_type": "markdown",
   "metadata": {},
   "source": [
    "It just works :-)\n",
    "\n",
    "Now a type class inheriting another type class, from the simulacrum README too."
   ]
  },
  {
   "cell_type": "code",
   "execution_count": 6,
   "metadata": {
    "collapsed": false
   },
   "outputs": [
    {
     "data": {
      "text/plain": [
       "defined \u001b[32mtrait \u001b[36mMonoid\u001b[0m"
      ]
     },
     "metadata": {},
     "output_type": "display_data"
    }
   ],
   "source": [
    "@typeclass trait Monoid[A] extends Semigroup[A] {\n",
    "  def id: A\n",
    "}"
   ]
  },
  {
   "cell_type": "markdown",
   "metadata": {},
   "source": [
    "And what the `@typeclass` macro actually generated:"
   ]
  },
  {
   "cell_type": "code",
   "execution_count": 7,
   "metadata": {
    "collapsed": false
   },
   "outputs": [
    {
     "data": {
      "text/plain": [
       "\u001b[36mres6\u001b[0m: \u001b[32mammonite.pprint.Show[String]\u001b[0m = \u001b[32m\"\"\"\n",
       "{\n",
       "  trait Monoid[A] extends cmd6.$ref$cmd1.Semigroup[A] {\n",
       "    def id: A\n",
       "  };\n",
       "  object Monoid extends AnyRef {\n",
       "    def apply[A](implicit instance: Monoid[A]): Monoid[A] = instance;\n",
       "    trait Ops[A] extends AnyRef {\n",
       "      def typeClassInstance: Monoid[A];\n",
       "      def self: A\n",
       "    };\n",
       "    trait ToMonoidOps extends AnyRef {\n",
       "      implicit def toMonoidOps[A](target: A)(implicit tc: Monoid[A]): Monoid.this.Ops[A] = {\n",
       "        final class $anon extends Monoid.this.Ops[A] {\n",
       "          val self = target;\n",
       "          val typeClassInstance = tc\n",
       "        };\n",
       "        new $anon()\n",
       "      }\n",
       "    };\n",
       "    trait AllOps[A] extends Monoid.this.Ops[A] with cmd6.$ref$cmd1.Semigroup.AllOps[A] {\n",
       "      def typeClassInstance: Monoid[A]\n",
       "    };\n",
       "    object ops extends AnyRef {\n",
       "      implicit def toAllMonoidOps[A](target: A)(implicit tc: Monoid[A]): Monoid.this.AllOps[A] = {\n",
       "        final class $anon extends Monoid.this.AllOps[A] {\n",
       "          val self = target;\n",
       "          val typeClassInstance = tc\n",
       "        };\n",
       "        new $anon()\n",
       "      }\n",
       "    }\n",
       "  };\n",
       "  ()\n",
       "}\n",
       "\"\"\"\u001b[0m"
      ]
     },
     "metadata": {},
     "output_type": "display_data"
    }
   ],
   "source": [
    "show(showCode(reify {\n",
    "  @typeclass trait Monoid[A] extends Semigroup[A] {\n",
    "    def id: A\n",
    "  }\n",
    "} .tree))"
   ]
  },
  {
   "cell_type": "markdown",
   "metadata": {},
   "source": [
    "The following line should make simulacrum output what it generated, but it doesn't here for an unknown reason :|"
   ]
  },
  {
   "cell_type": "code",
   "execution_count": 8,
   "metadata": {
    "collapsed": false
   },
   "outputs": [
    {
     "data": {
      "text/plain": [
       "\u001b[36mres7\u001b[0m: \u001b[32mjava.lang.String\u001b[0m = null"
      ]
     },
     "metadata": {},
     "output_type": "display_data"
    }
   ],
   "source": [
    "System.setProperty(\"simulacrum.trace\", \"\")"
   ]
  },
  {
   "cell_type": "markdown",
   "metadata": {},
   "source": [
    "This is what simulacrum checks ([here](https://github.com/mpilquist/simulacrum/blob/master/core/src/main/scala_2.11/simulacrum/typeclass.scala#L58)):"
   ]
  },
  {
   "cell_type": "code",
   "execution_count": 9,
   "metadata": {
    "collapsed": false
   },
   "outputs": [
    {
     "data": {
      "text/plain": [
       "\u001b[36mres8\u001b[0m: \u001b[32mBoolean\u001b[0m = true"
      ]
     },
     "metadata": {},
     "output_type": "display_data"
    }
   ],
   "source": [
    "sys.props.get(\"simulacrum.trace\").isDefined"
   ]
  },
  {
   "cell_type": "markdown",
   "metadata": {},
   "source": [
    "And re-initializing the compiler instance, with"
   ]
  },
  {
   "cell_type": "code",
   "execution_count": 10,
   "metadata": {
    "collapsed": false
   },
   "outputs": [
    {
     "data": {
      "text/plain": []
     },
     "metadata": {},
     "output_type": "display_data"
    }
   ],
   "source": [
    "interpreter.init()"
   ]
  },
  {
   "cell_type": "markdown",
   "metadata": {},
   "source": [
    "or even with the `-verbose` option,"
   ]
  },
  {
   "cell_type": "code",
   "execution_count": 11,
   "metadata": {
    "collapsed": false
   },
   "outputs": [
    {
     "data": {
      "text/plain": []
     },
     "metadata": {},
     "output_type": "display_data"
    }
   ],
   "source": [
    "interpreter.init(Seq(\"-verbose\"))"
   ]
  },
  {
   "cell_type": "code",
   "execution_count": 12,
   "metadata": {
    "collapsed": false
   },
   "outputs": [
    {
     "data": {
      "text/plain": [
       "defined \u001b[32mtrait \u001b[36mSemigrp\u001b[0m"
      ]
     },
     "metadata": {},
     "output_type": "display_data"
    }
   ],
   "source": [
    "// no debug output :|\n",
    "@typeclass trait Semigrp[A] {\n",
    "  @op(\"|+|\") def append(x: A, y: A): A\n",
    "}"
   ]
  },
  {
   "cell_type": "markdown",
   "metadata": {},
   "source": [
    "Nope, no debug output. But we can call ourselves `showCode` and `reify`, as above. So we don't really need that."
   ]
  },
  {
   "cell_type": "markdown",
   "metadata": {
    "collapsed": true
   },
   "source": [
    "### Now more complex examples\n",
    "\n",
    "From simulacrum examples directory. Comments are from simulacrum. Names were changed to prevent clash with the above examples."
   ]
  },
  {
   "cell_type": "code",
   "execution_count": 13,
   "metadata": {
    "collapsed": false
   },
   "outputs": [
    {
     "data": {
      "text/plain": [
       "defined \u001b[32mtrait \u001b[36mFunctor\u001b[0m\n",
       "defined \u001b[32mtrait \u001b[36mApplicative\u001b[0m"
      ]
     },
     "metadata": {},
     "output_type": "display_data"
    }
   ],
   "source": [
    "@typeclass trait Functor[F[_]] {\n",
    "  def map[A, B](fa: F[A])(f: A => B): F[B]\n",
    "}\n",
    "\n",
    "@typeclass trait Applicative[F[_]] extends Functor[F] {\n",
    "  def pure[A](a: => A): F[A]\n",
    "  def ap[A, B](fa: F[A])(f: F[A => B]): F[B]\n",
    "  override def map[A, B](fa: F[A])(f: A => B): F[B] =\n",
    "    ap(fa)(pure(f))\n",
    "}"
   ]
  },
  {
   "cell_type": "code",
   "execution_count": 14,
   "metadata": {
    "collapsed": false
   },
   "outputs": [
    {
     "data": {
      "text/plain": [
       "defined \u001b[32mtrait \u001b[36mMonad\u001b[0m\n",
       "defined \u001b[32mtrait \u001b[36mPlusEmpty\u001b[0m\n",
       "defined \u001b[32mtrait \u001b[36mMonadPlus\u001b[0m"
      ]
     },
     "metadata": {},
     "output_type": "display_data"
    }
   ],
   "source": [
    "@typeclass trait Monad[F[_]] extends Applicative[F] {\n",
    "  @op(\">>=\", alias = true) def flatMap[A, B](fa: F[A])(f: A => F[B]): F[B]\n",
    "  override def ap[A, B](fa: F[A])(f: F[A => B]): F[B] =\n",
    "    flatMap(f)(map(fa))\n",
    "  override def map[A, B](fa: F[A])(f: A => B): F[B] =\n",
    "    flatMap(fa)(a => pure(f(a)))\n",
    "}\n",
    "\n",
    "@typeclass trait PlusEmpty[F[_]] {\n",
    "  def empty[A]: F[A]\n",
    "}\n",
    "\n",
    "@typeclass trait MonadPlus[F[_]] extends Monad[F] with PlusEmpty[F] {\n",
    "  self =>\n",
    "  class WithFilter[A](fa: F[A], p: A => Boolean) {\n",
    "    def map[B](f: A => B): F[B] = self.map(filter(fa)(p))(f)\n",
    "    def flatMap[B](f: A => F[B]): F[B] = self.flatMap(filter(fa)(p))(f)\n",
    "    def withFilter(q: A => Boolean): WithFilter[A] = new WithFilter[A](fa, x => p(x) && q(x))\n",
    "  }\n",
    "\n",
    "  def withFilter[A](fa: F[A])(p: A => Boolean): WithFilter[A] = new WithFilter[A](fa, p)\n",
    "  def filter[A](fa: F[A])(f: A => Boolean) =\n",
    "    flatMap(fa)(a => if (f(a)) pure(a) else empty[A])\n",
    "}"
   ]
  },
  {
   "cell_type": "code",
   "execution_count": 15,
   "metadata": {
    "collapsed": false
   },
   "outputs": [
    {
     "data": {
      "text/plain": [
       "defined \u001b[32mtrait \u001b[36mMaybe\u001b[0m\n",
       "defined \u001b[32mclass \u001b[36mJust\u001b[0m\n",
       "defined \u001b[32mobject \u001b[36mEmpty\u001b[0m\n",
       "defined \u001b[32mobject \u001b[36mMaybe\u001b[0m"
      ]
     },
     "metadata": {},
     "output_type": "display_data"
    }
   ],
   "source": [
    "sealed trait Maybe[+A]\n",
    "case class Just[A](value: A) extends Maybe[A]\n",
    "case object Empty extends Maybe[Nothing]\n",
    "\n",
    "object Maybe {\n",
    "    \n",
    "  def just[A](a: A): Maybe[A] = Just(a)\n",
    "  def empty[A]: Maybe[A] = Empty\n",
    "\n",
    "  implicit val instance: MonadPlus[Maybe] = new MonadPlus[Maybe] {\n",
    "    def pure[A](a: => A) = just(a)\n",
    "    def empty[A] = Maybe.empty[A]\n",
    "    def flatMap[A, B](fa: Maybe[A])(f: A => Maybe[B]) = fa match {\n",
    "      case Just(a) => f(a)\n",
    "      case e @ Empty => e\n",
    "    }\n",
    "  }\n",
    "    \n",
    "}"
   ]
  },
  {
   "cell_type": "code",
   "execution_count": 28,
   "metadata": {
    "collapsed": false
   },
   "outputs": [
    {
     "data": {
      "text/plain": [
       "\u001b[32mimport \u001b[36mMonadPlus.ops._\u001b[0m\n",
       "\u001b[36mres26_1\u001b[0m: \u001b[32mcmd26.INSTANCE.$ref$cmd25.Maybe[Int]\u001b[0m = Just(2)\n",
       "\u001b[36mrecriprocal\u001b[0m: \u001b[32mInt => cmd26.INSTANCE.$ref$cmd25.Maybe[Double]\u001b[0m = <function1>\n",
       "\u001b[36mres26_3\u001b[0m: \u001b[32mcmd26.INSTANCE.$ref$cmd25.Maybe[Double]\u001b[0m = Just(1.0)\n",
       "defined \u001b[32mfunction \u001b[36mdiv\u001b[0m\n",
       "\u001b[36mres26_5\u001b[0m: \u001b[32mcmd26.INSTANCE.$ref$cmd25.Maybe[Double]\u001b[0m = Just(0.5)\n",
       "\u001b[36mres26_6\u001b[0m: \u001b[32mcmd26.INSTANCE.$ref$cmd25.Maybe[Double]\u001b[0m = Empty"
      ]
     },
     "metadata": {},
     "output_type": "display_data"
    }
   ],
   "source": [
    "import MonadPlus.ops._\n",
    "\n",
    "// We get the map function from Functor.Ops, which is the super-super-super class of MonadPlus.Ops\n",
    "Maybe.just(1) map ((_: Int) + 1) // shouldBe Maybe.just(2)\n",
    "\n",
    "// We get >>= syntax as an alias for flatMap from the super-class of MonadPlus.Ops\n",
    "val recriprocal: Int => Maybe[Double] = x => if (x == 0) Maybe.empty else Maybe.just(1.0 / x)\n",
    "Maybe.just(1) >>= recriprocal\n",
    "\n",
    "// We get map from Functor.Ops, flatMap from Monad.Ops, and filter from MonadPlus.Ops\n",
    "def div(x: Maybe[Int], y: Maybe[Int]): Maybe[Double] = for {\n",
    "  xx <- x\n",
    "  yy <- y\n",
    "  if (yy > 0)\n",
    "} yield xx.toDouble / yy\n",
    "\n",
    "div(Maybe.just(1), Maybe.just(2)) // shouldBe Maybe.just(1.toDouble / 2)\n",
    "div(Maybe.just(1), Maybe.empty) // shouldBe Maybe.empty"
   ]
  },
  {
   "cell_type": "code",
   "execution_count": 16,
   "metadata": {
    "collapsed": false
   },
   "outputs": [
    {
     "data": {
      "text/plain": [
       "defined \u001b[32mtrait \u001b[36mEqual\u001b[0m\n",
       "defined \u001b[32mtrait \u001b[36mSemigroup0\u001b[0m\n",
       "defined \u001b[32mtrait \u001b[36mMonoid\u001b[0m\n",
       "\u001b[36mintInstance\u001b[0m: \u001b[32m$user.Equal[Int] with $user.Semigroup0[Int]\u001b[0m = cmd15$$user$$anon$4@167637e4"
      ]
     },
     "metadata": {},
     "output_type": "display_data"
    }
   ],
   "source": [
    "@typeclass trait Equal[A] {\n",
    "  @op(\"=#=\") def equal(x: A, y: A): Boolean\n",
    "}\n",
    "\n",
    "@typeclass trait Semigroup0[A] {\n",
    "  @op(\"||+||\") def append(x: A, y: A): A\n",
    "}\n",
    "\n",
    "@typeclass trait Monoid[A] {\n",
    "  def id: A\n",
    "}\n",
    "\n",
    "implicit val intInstance: Equal[Int] with Semigroup0[Int] = new Equal[Int] with Semigroup0[Int] {\n",
    "  def equal(x: Int, y: Int) = x == y\n",
    "  def append(x: Int, y: Int) = x + y\n",
    "  def id: Int = 0\n",
    "}\n"
   ]
  },
  {
   "cell_type": "code",
   "execution_count": 17,
   "metadata": {
    "collapsed": false
   },
   "outputs": [
    {
     "data": {
      "text/plain": [
       "\u001b[36mres16_0\u001b[0m: \u001b[32mBoolean\u001b[0m = true\n",
       "\u001b[36mres16_1\u001b[0m: \u001b[32mBoolean\u001b[0m = true"
      ]
     },
     "metadata": {},
     "output_type": "display_data"
    }
   ],
   "source": [
    "// We cannot import Equal.Ops and Semigroup.Ops because of the name clash\n",
    "// However, an alias for the implicit conversion is generated which allows direct import\n",
    "{\n",
    "  import Equal.ops._, Semigroup0.ops._\n",
    "  (1 ||+|| 2) =#= (2 ||+|| 1)\n",
    "}\n",
    "\n",
    "// Alernatively, multiple type class ops can be combined in to a syntax object, which provides\n",
    "// a single import for all implicit conversions\n",
    "{\n",
    "  object all extends Equal.ToEqualOps with Semigroup0.ToSemigroup0Ops with Monoid.ToMonoidOps\n",
    "  import all._\n",
    "  (1 ||+|| 2) =#= (2 ||+|| 1)\n",
    "}"
   ]
  },
  {
   "cell_type": "code",
   "execution_count": null,
   "metadata": {
    "collapsed": true
   },
   "outputs": [],
   "source": []
  }
 ],
 "metadata": {
  "kernelspec": {
   "display_name": "Scala 2.11",
   "language": "scala211",
   "name": "scala211"
  },
  "language_info": {
   "codemirror_mode": "text/x-scala",
   "file_extension": "scala",
   "mimetype": "text/x-scala",
   "name": "scala211",
   "pygments_lexer": "scala",
   "version": "2.11.6"
  }
 },
 "nbformat": 4,
 "nbformat_minor": 0
}
